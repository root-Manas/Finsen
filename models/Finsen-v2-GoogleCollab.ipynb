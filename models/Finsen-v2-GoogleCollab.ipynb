{
  "cells": [
    {
      "cell_type": "code",
      "execution_count": null,
      "id": "pg_Z0bj8uZyt",
      "metadata": {
        "colab": {
          "base_uri": "https://localhost:8080/"
        },
        "id": "pg_Z0bj8uZyt",
        "outputId": "a49f4af0-aac6-4423-b714-bb4c16937fc7"
      },
      "outputs": [],
      "source": [
        "!pip install pygal\n",
        "!pip install seaborn\n",
        "!pip install squarify"
      ]
    },
    {
      "cell_type": "code",
      "execution_count": null,
      "id": "e7394521",
      "metadata": {
        "execution": {
          "iopub.execute_input": "2021-09-16T12:21:13.022563Z",
          "iopub.status.busy": "2021-09-16T12:21:13.021622Z",
          "iopub.status.idle": "2021-09-16T12:21:15.329775Z",
          "shell.execute_reply": "2021-09-16T12:21:15.329122Z",
          "shell.execute_reply.started": "2021-09-16T12:13:59.929338Z"
        },
        "id": "e7394521",
        "papermill": {
          "duration": 2.345954,
          "end_time": "2021-09-16T12:21:15.329917",
          "exception": false,
          "start_time": "2021-09-16T12:21:12.983963",
          "status": "completed"
        },
        "tags": []
      },
      "outputs": [],
      "source": [
        "import numpy as np\n",
        "import pandas as pd\n",
        "import seaborn as sns\n",
        "import matplotlib.pyplot as plt\n",
        "import plotly.express as px\n",
        "import plotly.graph_objects as go\n",
        "\n",
        "\n",
        "import pygal as py\n",
        "import squarify as sq\n",
        "import matplotlib\n",
        "plt.rcParams[\"figure.figsize\"] = (6,4)\n",
        "matplotlib.rc('xtick', labelsize=8)\n",
        "matplotlib.rc('ytick', labelsize=8)\n",
        "\n",
        "font = {'family' : 'sans-serif',\n",
        "        'weight' : 'bold',\n",
        "        'size'   : 8}\n",
        "\n",
        "matplotlib.rc('font', **font)\n",
        "from sklearn.feature_extraction.text import CountVectorizer\n",
        "import warnings\n",
        "warnings.filterwarnings(\"ignore\", category=FutureWarning)\n",
        "%matplotlib inline"
      ]
    },
    {
      "cell_type": "code",
      "execution_count": null,
      "id": "ojlyoOHeuq8e",
      "metadata": {
        "colab": {
          "base_uri": "https://localhost:8080/"
        },
        "id": "ojlyoOHeuq8e",
        "outputId": "24d410f1-d967-4c27-d912-6c8f375ce47d"
      },
      "outputs": [],
      "source": [
        "from google.colab import drive\n",
        "drive.mount('/content/drive')"
      ]
    },
    {
      "cell_type": "code",
      "execution_count": null,
      "id": "e6c65ecf",
      "metadata": {
        "colab": {
          "base_uri": "https://localhost:8080/",
          "height": 441
        },
        "execution": {
          "iopub.execute_input": "2021-09-16T12:21:15.393058Z",
          "iopub.status.busy": "2021-09-16T12:21:15.392427Z",
          "iopub.status.idle": "2021-09-16T12:21:15.453291Z",
          "shell.execute_reply": "2021-09-16T12:21:15.453762Z",
          "shell.execute_reply.started": "2021-09-16T12:13:59.945212Z"
        },
        "id": "e6c65ecf",
        "outputId": "1d51f5d9-41d9-4b56-f6e2-27394f7ad7d9",
        "papermill": {
          "duration": 0.095329,
          "end_time": "2021-09-16T12:21:15.453929",
          "exception": false,
          "start_time": "2021-09-16T12:21:15.358600",
          "status": "completed"
        },
        "tags": []
      },
      "outputs": [],
      "source": [
        "df=pd.read_csv(\"/content/drive/MyDrive/Dataset/all-data.csv\",engine=\"python\",encoding=\"ISO-8859-1\")\n",
        "df"
      ]
    },
    {
      "cell_type": "code",
      "execution_count": null,
      "id": "b9384e76",
      "metadata": {
        "colab": {
          "base_uri": "https://localhost:8080/",
          "height": 36
        },
        "execution": {
          "iopub.execute_input": "2021-09-16T12:21:15.519813Z",
          "iopub.status.busy": "2021-09-16T12:21:15.519044Z",
          "iopub.status.idle": "2021-09-16T12:21:15.522472Z",
          "shell.execute_reply": "2021-09-16T12:21:15.522032Z",
          "shell.execute_reply.started": "2021-09-16T12:14:00.016599Z"
        },
        "id": "b9384e76",
        "outputId": "bf5d2d8b-2ebc-45a8-80a9-aabefb42641b",
        "papermill": {
          "duration": 0.038055,
          "end_time": "2021-09-16T12:21:15.522602",
          "exception": false,
          "start_time": "2021-09-16T12:21:15.484547",
          "status": "completed"
        },
        "tags": []
      },
      "outputs": [],
      "source": [
        "col1=df.keys()[0]\n",
        "col2=df.keys()[1]\n",
        "col2"
      ]
    },
    {
      "cell_type": "code",
      "execution_count": null,
      "id": "b51d71e1",
      "metadata": {
        "execution": {
          "iopub.execute_input": "2021-09-16T12:21:15.587176Z",
          "iopub.status.busy": "2021-09-16T12:21:15.586447Z",
          "iopub.status.idle": "2021-09-16T12:21:15.588765Z",
          "shell.execute_reply": "2021-09-16T12:21:15.589226Z",
          "shell.execute_reply.started": "2021-09-16T12:14:00.026586Z"
        },
        "id": "b51d71e1",
        "papermill": {
          "duration": 0.037634,
          "end_time": "2021-09-16T12:21:15.589402",
          "exception": false,
          "start_time": "2021-09-16T12:21:15.551768",
          "status": "completed"
        },
        "tags": []
      },
      "outputs": [],
      "source": [
        "df2=pd.DataFrame([[col1, col2]], columns=list([col1,col2]), index=[4845])"
      ]
    },
    {
      "cell_type": "code",
      "execution_count": null,
      "id": "694fd126",
      "metadata": {
        "execution": {
          "iopub.execute_input": "2021-09-16T12:21:15.655575Z",
          "iopub.status.busy": "2021-09-16T12:21:15.654749Z",
          "iopub.status.idle": "2021-09-16T12:21:15.658000Z",
          "shell.execute_reply": "2021-09-16T12:21:15.657540Z",
          "shell.execute_reply.started": "2021-09-16T12:14:00.039066Z"
        },
        "id": "694fd126",
        "papermill": {
          "duration": 0.038551,
          "end_time": "2021-09-16T12:21:15.658136",
          "exception": false,
          "start_time": "2021-09-16T12:21:15.619585",
          "status": "completed"
        },
        "tags": []
      },
      "outputs": [],
      "source": [
        "df = pd.concat([df, df2], ignore_index=True)\n",
        "df = df.set_axis(['sentiment', 'news'], axis=1)"
      ]
    },
    {
      "cell_type": "code",
      "execution_count": null,
      "id": "9c958b35",
      "metadata": {
        "colab": {
          "base_uri": "https://localhost:8080/",
          "height": 423
        },
        "execution": {
          "iopub.execute_input": "2021-09-16T12:21:15.726989Z",
          "iopub.status.busy": "2021-09-16T12:21:15.726180Z",
          "iopub.status.idle": "2021-09-16T12:21:15.729832Z",
          "shell.execute_reply": "2021-09-16T12:21:15.729362Z",
          "shell.execute_reply.started": "2021-09-16T12:14:00.051840Z"
        },
        "id": "9c958b35",
        "outputId": "d77d55b4-5884-4ca7-819b-123ccec4068a",
        "papermill": {
          "duration": 0.042727,
          "end_time": "2021-09-16T12:21:15.729963",
          "exception": false,
          "start_time": "2021-09-16T12:21:15.687236",
          "status": "completed"
        },
        "tags": []
      },
      "outputs": [],
      "source": [
        "df"
      ]
    },
    {
      "cell_type": "code",
      "execution_count": null,
      "id": "2b46b48a",
      "metadata": {
        "colab": {
          "base_uri": "https://localhost:8080/",
          "height": 421
        },
        "execution": {
          "iopub.execute_input": "2021-09-16T12:21:15.793307Z",
          "iopub.status.busy": "2021-09-16T12:21:15.792437Z",
          "iopub.status.idle": "2021-09-16T12:21:16.026627Z",
          "shell.execute_reply": "2021-09-16T12:21:16.026017Z",
          "shell.execute_reply.started": "2021-09-16T12:14:00.072182Z"
        },
        "id": "2b46b48a",
        "outputId": "84c3d468-2ea6-4dc7-b527-4342d041e3c1",
        "papermill": {
          "duration": 0.267039,
          "end_time": "2021-09-16T12:21:16.026781",
          "exception": false,
          "start_time": "2021-09-16T12:21:15.759742",
          "status": "completed"
        },
        "tags": []
      },
      "outputs": [],
      "source": [
        "sns.countplot(y=\"sentiment\",data=df)"
      ]
    },
    {
      "cell_type": "code",
      "execution_count": null,
      "id": "0ab9c777",
      "metadata": {
        "colab": {
          "base_uri": "https://localhost:8080/",
          "height": 147
        },
        "execution": {
          "iopub.execute_input": "2021-09-16T12:21:16.092414Z",
          "iopub.status.busy": "2021-09-16T12:21:16.091845Z",
          "iopub.status.idle": "2021-09-16T12:21:16.098920Z",
          "shell.execute_reply": "2021-09-16T12:21:16.099362Z",
          "shell.execute_reply.started": "2021-09-16T12:14:00.321881Z"
        },
        "id": "0ab9c777",
        "outputId": "31b73bca-7ae8-4e45-d660-0fe1c0d31e1e",
        "papermill": {
          "duration": 0.041339,
          "end_time": "2021-09-16T12:21:16.099521",
          "exception": false,
          "start_time": "2021-09-16T12:21:16.058182",
          "status": "completed"
        },
        "tags": []
      },
      "outputs": [],
      "source": [
        "df.isnull().sum()"
      ]
    },
    {
      "cell_type": "code",
      "execution_count": null,
      "id": "da8185b9",
      "metadata": {
        "execution": {
          "iopub.execute_input": "2021-09-16T12:21:16.164121Z",
          "iopub.status.busy": "2021-09-16T12:21:16.163532Z",
          "iopub.status.idle": "2021-09-16T12:21:16.744044Z",
          "shell.execute_reply": "2021-09-16T12:21:16.744534Z",
          "shell.execute_reply.started": "2021-09-16T12:14:00.337399Z"
        },
        "id": "da8185b9",
        "papermill": {
          "duration": 0.614259,
          "end_time": "2021-09-16T12:21:16.744725",
          "exception": false,
          "start_time": "2021-09-16T12:21:16.130466",
          "status": "completed"
        },
        "tags": []
      },
      "outputs": [],
      "source": [
        "from textblob import TextBlob"
      ]
    },
    {
      "cell_type": "code",
      "execution_count": null,
      "id": "a3ad5b4a",
      "metadata": {
        "execution": {
          "iopub.execute_input": "2021-09-16T12:21:16.809926Z",
          "iopub.status.busy": "2021-09-16T12:21:16.809288Z",
          "iopub.status.idle": "2021-09-16T12:21:18.193034Z",
          "shell.execute_reply": "2021-09-16T12:21:18.193457Z",
          "shell.execute_reply.started": "2021-09-16T12:14:00.942448Z"
        },
        "id": "a3ad5b4a",
        "papermill": {
          "duration": 1.417799,
          "end_time": "2021-09-16T12:21:18.193628",
          "exception": false,
          "start_time": "2021-09-16T12:21:16.775829",
          "status": "completed"
        },
        "tags": []
      },
      "outputs": [],
      "source": [
        "def preprocess(ReviewText):\n",
        "    ReviewText = ReviewText.str.replace(\"(<br/>)\", \"\")\n",
        "    ReviewText = ReviewText.str.replace('(<a).*(>).*(</a>)', '')\n",
        "    ReviewText = ReviewText.str.replace('(&amp)', '')\n",
        "    ReviewText = ReviewText.str.replace('(&gt)', '')\n",
        "    ReviewText = ReviewText.str.replace('(&lt)', '')\n",
        "    ReviewText = ReviewText.str.replace('(\\xa0)', ' ')\n",
        "    return ReviewText\n",
        "df['Review Text'] = preprocess(df['news'])\n",
        "\n",
        "df['polarity'] = df['news'].map(lambda text: TextBlob(text).sentiment.polarity)\n",
        "df['news_len'] = df['news'].astype(str).apply(len)\n",
        "df['word_count'] = df['news'].apply(lambda x: len(str(x).split()))"
      ]
    },
    {
      "cell_type": "code",
      "execution_count": null,
      "id": "56bfab52",
      "metadata": {
        "colab": {
          "base_uri": "https://localhost:8080/",
          "height": 441
        },
        "execution": {
          "iopub.execute_input": "2021-09-16T12:21:18.260293Z",
          "iopub.status.busy": "2021-09-16T12:21:18.259718Z",
          "iopub.status.idle": "2021-09-16T12:21:18.272887Z",
          "shell.execute_reply": "2021-09-16T12:21:18.273402Z",
          "shell.execute_reply.started": "2021-09-16T12:14:02.906300Z"
        },
        "id": "56bfab52",
        "outputId": "bd541f1e-70e8-42ae-ccd9-f233444cc3c6",
        "papermill": {
          "duration": 0.048865,
          "end_time": "2021-09-16T12:21:18.273561",
          "exception": false,
          "start_time": "2021-09-16T12:21:18.224696",
          "status": "completed"
        },
        "tags": []
      },
      "outputs": [],
      "source": [
        "df"
      ]
    },
    {
      "cell_type": "code",
      "execution_count": null,
      "id": "30445d32",
      "metadata": {
        "colab": {
          "base_uri": "https://localhost:8080/"
        },
        "execution": {
          "iopub.execute_input": "2021-09-16T12:21:18.338625Z",
          "iopub.status.busy": "2021-09-16T12:21:18.338083Z",
          "iopub.status.idle": "2021-09-16T12:21:18.354615Z",
          "shell.execute_reply": "2021-09-16T12:21:18.355281Z",
          "shell.execute_reply.started": "2021-09-16T12:14:02.930353Z"
        },
        "id": "30445d32",
        "outputId": "73413e23-dabf-4626-c9c0-94769fe52517",
        "papermill": {
          "duration": 0.050737,
          "end_time": "2021-09-16T12:21:18.355502",
          "exception": false,
          "start_time": "2021-09-16T12:21:18.304765",
          "status": "completed"
        },
        "tags": []
      },
      "outputs": [],
      "source": [
        "print('top 4 random reviews with the highest positive sentiment polarity: \\n')\n",
        "\n",
        "df1=df.drop_duplicates(subset=['Review Text'])\n",
        "\n",
        "cl = df1.loc[df1.polarity == 1, ['Review Text']].sample(4).values\n",
        "for c in cl:\n",
        "    print(c[0])\n"
      ]
    },
    {
      "cell_type": "code",
      "execution_count": null,
      "id": "dd80eb55",
      "metadata": {
        "colab": {
          "base_uri": "https://localhost:8080/"
        },
        "execution": {
          "iopub.execute_input": "2021-09-16T12:21:18.427368Z",
          "iopub.status.busy": "2021-09-16T12:21:18.424791Z",
          "iopub.status.idle": "2021-09-16T12:21:18.431285Z",
          "shell.execute_reply": "2021-09-16T12:21:18.430809Z",
          "shell.execute_reply.started": "2021-09-16T12:14:02.953397Z"
        },
        "id": "dd80eb55",
        "outputId": "9dd08ca4-1630-4454-c8aa-32acb65d855e",
        "papermill": {
          "duration": 0.044005,
          "end_time": "2021-09-16T12:21:18.431418",
          "exception": false,
          "start_time": "2021-09-16T12:21:18.387413",
          "status": "completed"
        },
        "tags": []
      },
      "outputs": [],
      "source": [
        "print('5 random reviews with the most neutral sentiment(zero) polarity: \\n')\n",
        "cl1 = df.loc[df.polarity == 0, ['Review Text']].sample(5).values\n",
        "for c in cl1:\n",
        "    print(c[0])"
      ]
    },
    {
      "cell_type": "code",
      "execution_count": null,
      "id": "116cce49",
      "metadata": {
        "colab": {
          "base_uri": "https://localhost:8080/"
        },
        "execution": {
          "iopub.execute_input": "2021-09-16T12:21:18.499008Z",
          "iopub.status.busy": "2021-09-16T12:21:18.498343Z",
          "iopub.status.idle": "2021-09-16T12:21:18.507789Z",
          "shell.execute_reply": "2021-09-16T12:21:18.508431Z",
          "shell.execute_reply.started": "2021-09-16T12:14:02.969633Z"
        },
        "id": "116cce49",
        "outputId": "47d5e7bd-3f99-4073-9c65-33265bd85bb0",
        "papermill": {
          "duration": 0.04542,
          "end_time": "2021-09-16T12:21:18.508664",
          "exception": false,
          "start_time": "2021-09-16T12:21:18.463244",
          "status": "completed"
        },
        "tags": []
      },
      "outputs": [],
      "source": [
        "print('5 reviews with the most negative polarity having polarity lesser than -0.80: \\n')\n",
        "cl3 = df.loc[df.polarity <= -0.80, ['Review Text']].sample(5).values\n",
        "for c in cl3:\n",
        "    print(c[0])"
      ]
    },
    {
      "cell_type": "code",
      "execution_count": null,
      "id": "771dcc93",
      "metadata": {
        "colab": {
          "base_uri": "https://localhost:8080/",
          "height": 421
        },
        "execution": {
          "iopub.execute_input": "2021-09-16T12:21:18.594070Z",
          "iopub.status.busy": "2021-09-16T12:21:18.580507Z",
          "iopub.status.idle": "2021-09-16T12:21:18.891039Z",
          "shell.execute_reply": "2021-09-16T12:21:18.891493Z",
          "shell.execute_reply.started": "2021-09-16T12:14:02.984356Z"
        },
        "id": "771dcc93",
        "outputId": "5393d4ea-2724-4edd-fa9f-c97fd43276ba",
        "papermill": {
          "duration": 0.350337,
          "end_time": "2021-09-16T12:21:18.891689",
          "exception": false,
          "start_time": "2021-09-16T12:21:18.541352",
          "status": "completed"
        },
        "tags": []
      },
      "outputs": [],
      "source": [
        "sns.boxplot(x=\"polarity\", palette=\"rainbow\", data=df)"
      ]
    },
    {
      "cell_type": "code",
      "execution_count": null,
      "id": "5f21e393",
      "metadata": {
        "colab": {
          "base_uri": "https://localhost:8080/",
          "height": 406
        },
        "execution": {
          "iopub.execute_input": "2021-09-16T12:21:18.961967Z",
          "iopub.status.busy": "2021-09-16T12:21:18.961359Z",
          "iopub.status.idle": "2021-09-16T12:21:19.250593Z",
          "shell.execute_reply": "2021-09-16T12:21:19.251163Z",
          "shell.execute_reply.started": "2021-09-16T12:14:03.197135Z"
        },
        "id": "5f21e393",
        "outputId": "54a38154-eee2-4da1-a82d-a045131da8e8",
        "papermill": {
          "duration": 0.327112,
          "end_time": "2021-09-16T12:21:19.251343",
          "exception": false,
          "start_time": "2021-09-16T12:21:18.924231",
          "status": "completed"
        },
        "tags": []
      },
      "outputs": [],
      "source": [
        "df['polarity'].plot(\n",
        "    kind='hist',\n",
        "    bins=50,\n",
        "    color=\"peru\",\n",
        "    title='Sentiment Polarity Distribution');plt.show()"
      ]
    },
    {
      "cell_type": "code",
      "execution_count": null,
      "id": "2bfd8a97",
      "metadata": {
        "execution": {
          "iopub.execute_input": "2021-09-16T12:21:19.324054Z",
          "iopub.status.busy": "2021-09-16T12:21:19.323446Z",
          "iopub.status.idle": "2021-09-16T12:21:19.335908Z",
          "shell.execute_reply": "2021-09-16T12:21:19.335291Z",
          "shell.execute_reply.started": "2021-09-16T12:14:03.514568Z"
        },
        "id": "2bfd8a97",
        "papermill": {
          "duration": 0.050609,
          "end_time": "2021-09-16T12:21:19.336040",
          "exception": false,
          "start_time": "2021-09-16T12:21:19.285431",
          "status": "completed"
        },
        "tags": []
      },
      "outputs": [],
      "source": [
        "p_s=df[df[\"polarity\"]>0].count()[\"sentiment\"]\n",
        "neu_s=df[df[\"polarity\"]==0].count()[\"sentiment\"]\n",
        "neg_s=df[df[\"polarity\"]<0].count()[\"sentiment\"]"
      ]
    },
    {
      "cell_type": "code",
      "execution_count": null,
      "id": "e21a2868",
      "metadata": {
        "colab": {
          "base_uri": "https://localhost:8080/",
          "height": 372
        },
        "execution": {
          "iopub.execute_input": "2021-09-16T12:21:19.436472Z",
          "iopub.status.busy": "2021-09-16T12:21:19.429082Z",
          "iopub.status.idle": "2021-09-16T12:21:19.514034Z",
          "shell.execute_reply": "2021-09-16T12:21:19.514438Z",
          "shell.execute_reply.started": "2021-09-16T12:14:03.533042Z"
        },
        "id": "e21a2868",
        "outputId": "80ad74c3-e486-40ec-caae-356e524b36eb",
        "papermill": {
          "duration": 0.145096,
          "end_time": "2021-09-16T12:21:19.514612",
          "exception": false,
          "start_time": "2021-09-16T12:21:19.369516",
          "status": "completed"
        },
        "tags": []
      },
      "outputs": [],
      "source": [
        "# Setting labels for items in Chart\n",
        "sentiment = ['positive_sentiment',\"neutral_sentiment\",\"negative_sentiment\"]\n",
        "\n",
        "# Setting size in Chart based on\n",
        "# given values\n",
        "values = [p_s,neu_s,neg_s]\n",
        "\n",
        "# colors\n",
        "colors = ['#FF0000', 'olive', '#FFFF00']\n",
        "# explosion\n",
        "explode = (0.05, 0.05, 0.05)\n",
        "\n",
        "# Pie Chart\n",
        "plt.pie(values, colors=colors, labels=sentiment,\n",
        "        autopct='%1.1f%%', pctdistance=0.85,\n",
        "        explode=explode)\n",
        "\n",
        "# draw circle\n",
        "centre_circle = plt.Circle((0, 0), 0.70, fc='white')\n",
        "fig = plt.gcf()\n",
        "\n",
        "# Adding Circle in Pie chart\n",
        "fig.gca().add_artist(centre_circle)\n",
        "\n",
        "# Adding Title of chart\n",
        "plt.title('count of polarity as per sentiment')\n",
        "\n",
        "# Displaing Chart\n",
        "plt.show()"
      ]
    },
    {
      "cell_type": "code",
      "execution_count": null,
      "id": "d81fe98c",
      "metadata": {
        "colab": {
          "base_uri": "https://localhost:8080/",
          "height": 396
        },
        "execution": {
          "iopub.execute_input": "2021-09-16T12:21:19.588242Z",
          "iopub.status.busy": "2021-09-16T12:21:19.587598Z",
          "iopub.status.idle": "2021-09-16T12:21:19.774937Z",
          "shell.execute_reply": "2021-09-16T12:21:19.774446Z",
          "shell.execute_reply.started": "2021-09-16T12:14:03.663120Z"
        },
        "id": "d81fe98c",
        "outputId": "f1e742a7-fc68-485d-f1aa-8d6d73520dba",
        "papermill": {
          "duration": 0.226303,
          "end_time": "2021-09-16T12:21:19.775068",
          "exception": false,
          "start_time": "2021-09-16T12:21:19.548765",
          "status": "completed"
        },
        "tags": []
      },
      "outputs": [],
      "source": [
        "df.plot.box(y=[\"word_count\"],color=\"hotpink\")"
      ]
    },
    {
      "cell_type": "code",
      "execution_count": null,
      "id": "c7e44e80",
      "metadata": {
        "colab": {
          "base_uri": "https://localhost:8080/",
          "height": 406
        },
        "execution": {
          "iopub.execute_input": "2021-09-16T12:21:19.849984Z",
          "iopub.status.busy": "2021-09-16T12:21:19.849304Z",
          "iopub.status.idle": "2021-09-16T12:21:20.190028Z",
          "shell.execute_reply": "2021-09-16T12:21:20.189417Z",
          "shell.execute_reply.started": "2021-09-16T12:14:03.875475Z"
        },
        "id": "c7e44e80",
        "outputId": "fdad99bd-7e1c-4962-9bb2-305aeb76e904",
        "papermill": {
          "duration": 0.380338,
          "end_time": "2021-09-16T12:21:20.190160",
          "exception": false,
          "start_time": "2021-09-16T12:21:19.809822",
          "status": "completed"
        },
        "tags": []
      },
      "outputs": [],
      "source": [
        "df['word_count'].plot(\n",
        "    kind='hist',\n",
        "    bins=100,\n",
        "    color=\"orange\",\n",
        "    title='Review Text Word Count Distribution');plt.show()"
      ]
    },
    {
      "cell_type": "code",
      "execution_count": null,
      "id": "01065a87",
      "metadata": {
        "colab": {
          "base_uri": "https://localhost:8080/",
          "height": 406
        },
        "execution": {
          "iopub.execute_input": "2021-09-16T12:21:20.495287Z",
          "iopub.status.busy": "2021-09-16T12:21:20.494720Z",
          "iopub.status.idle": "2021-09-16T12:21:20.751915Z",
          "shell.execute_reply": "2021-09-16T12:21:20.752315Z",
          "shell.execute_reply.started": "2021-09-16T12:14:04.445543Z"
        },
        "id": "01065a87",
        "outputId": "a71ad866-25d1-4bda-ed2e-81e168982454",
        "papermill": {
          "duration": 0.296982,
          "end_time": "2021-09-16T12:21:20.752477",
          "exception": false,
          "start_time": "2021-09-16T12:21:20.455495",
          "status": "completed"
        },
        "tags": []
      },
      "outputs": [],
      "source": [
        "df['news_len'].plot(\n",
        "    kind='hist',\n",
        "    bins=50,\n",
        "    color=\"lightblue\",\n",
        "    title='Review Text Word Count Distribution');plt.show()"
      ]
    },
    {
      "cell_type": "code",
      "execution_count": null,
      "id": "e6c95ece",
      "metadata": {
        "colab": {
          "base_uri": "https://localhost:8080/",
          "height": 542
        },
        "execution": {
          "iopub.execute_input": "2021-09-16T12:21:20.827998Z",
          "iopub.status.busy": "2021-09-16T12:21:20.827395Z",
          "iopub.status.idle": "2021-09-16T12:21:21.929865Z",
          "shell.execute_reply": "2021-09-16T12:21:21.930310Z",
          "shell.execute_reply.started": "2021-09-16T12:14:04.738068Z"
        },
        "id": "e6c95ece",
        "outputId": "57b757a1-cc84-4643-eea0-4e4c10cfd753",
        "papermill": {
          "duration": 1.141775,
          "end_time": "2021-09-16T12:21:21.930467",
          "exception": false,
          "start_time": "2021-09-16T12:21:20.788692",
          "status": "completed"
        },
        "tags": []
      },
      "outputs": [],
      "source": [
        "fig = px.scatter(df, x=\"news_len\", y=\"word_count\", color=\"sentiment\",\n",
        "                 marginal_x=\"box\", marginal_y=\"violin\",\n",
        "                  title=\"Click on the legend items!\")\n",
        "fig.show()"
      ]
    },
    {
      "cell_type": "code",
      "execution_count": null,
      "id": "f06b6048",
      "metadata": {
        "colab": {
          "base_uri": "https://localhost:8080/",
          "height": 1000
        },
        "execution": {
          "iopub.execute_input": "2021-09-16T12:21:22.043180Z",
          "iopub.status.busy": "2021-09-16T12:21:22.037994Z",
          "iopub.status.idle": "2021-09-16T12:21:22.531383Z",
          "shell.execute_reply": "2021-09-16T12:21:22.530944Z",
          "shell.execute_reply.started": "2021-09-16T12:14:05.934301Z"
        },
        "id": "f06b6048",
        "outputId": "5af93c6b-608f-4f4b-c075-3dac1629bbfa",
        "papermill": {
          "duration": 0.562328,
          "end_time": "2021-09-16T12:21:22.531513",
          "exception": false,
          "start_time": "2021-09-16T12:21:21.969185",
          "status": "completed"
        },
        "tags": []
      },
      "outputs": [],
      "source": [
        "def get_top_n_words(corpus, n=None):\n",
        "    vec = CountVectorizer().fit(corpus)\n",
        "    bag_of_words = vec.transform(corpus)\n",
        "    sum_words = bag_of_words.sum(axis=0)\n",
        "    words_freq = [(word, sum_words[0, idx]) for word, idx in vec.vocabulary_.items()]\n",
        "    words_freq =sorted(words_freq, key = lambda x: x[1], reverse=True)\n",
        "    return words_freq[:n]\n",
        "common_words = get_top_n_words(df['Review Text'], 20)\n",
        "for word, freq in common_words:\n",
        "    print(word, freq)\n",
        "df1 = pd.DataFrame(common_words, columns = ['ReviewText' , 'count'])\n",
        "df1.groupby('ReviewText').sum()['count'].sort_values(ascending=False).plot(\n",
        "    kind='bar',title='Top 20 words in review before removing stop words')\n",
        "df1"
      ]
    },
    {
      "cell_type": "code",
      "execution_count": null,
      "id": "1590bfa5",
      "metadata": {
        "colab": {
          "base_uri": "https://localhost:8080/",
          "height": 901
        },
        "execution": {
          "iopub.execute_input": "2021-09-16T12:21:22.694042Z",
          "iopub.status.busy": "2021-09-16T12:21:22.657793Z",
          "iopub.status.idle": "2021-09-16T12:21:23.125033Z",
          "shell.execute_reply": "2021-09-16T12:21:23.125432Z",
          "shell.execute_reply.started": "2021-09-16T12:14:06.622074Z"
        },
        "id": "1590bfa5",
        "outputId": "31ef784d-eb7d-4306-f4d9-ac111ab5350b",
        "papermill": {
          "duration": 0.553496,
          "end_time": "2021-09-16T12:21:23.125635",
          "exception": false,
          "start_time": "2021-09-16T12:21:22.572139",
          "status": "completed"
        },
        "tags": []
      },
      "outputs": [],
      "source": [
        "def get_top_n_words(corpus, n=None):\n",
        "    vec = CountVectorizer(stop_words = 'english').fit(corpus)\n",
        "    bag_of_words = vec.transform(corpus)\n",
        "    sum_words = bag_of_words.sum(axis=0)\n",
        "    words_freq = [(word, sum_words[0, idx]) for word, idx in vec.vocabulary_.items()]\n",
        "    words_freq =sorted(words_freq, key = lambda x: x[1], reverse=True)\n",
        "    return words_freq[:n]\n",
        "common_words = get_top_n_words(df['Review Text'], 20)\n",
        "for word, freq in common_words:\n",
        "    print(word, freq)\n",
        "df2 = pd.DataFrame(common_words, columns = ['ReviewText' , 'count'])\n",
        "df2.groupby('ReviewText').sum()['count'].sort_values(ascending=False).plot(kind='bar', title='Top 20 words in review after removing stop words')"
      ]
    },
    {
      "cell_type": "code",
      "execution_count": null,
      "id": "b43cd2c6",
      "metadata": {
        "colab": {
          "base_uri": "https://localhost:8080/",
          "height": 984
        },
        "execution": {
          "iopub.execute_input": "2021-09-16T12:21:23.212366Z",
          "iopub.status.busy": "2021-09-16T12:21:23.211773Z",
          "iopub.status.idle": "2021-09-16T12:21:24.003586Z",
          "shell.execute_reply": "2021-09-16T12:21:24.003080Z",
          "shell.execute_reply.started": "2021-09-16T12:14:07.274702Z"
        },
        "id": "b43cd2c6",
        "outputId": "14fdfa42-b0dd-4c6d-cd68-d60e96105036",
        "papermill": {
          "duration": 0.836143,
          "end_time": "2021-09-16T12:21:24.003748",
          "exception": false,
          "start_time": "2021-09-16T12:21:23.167605",
          "status": "completed"
        },
        "tags": []
      },
      "outputs": [],
      "source": [
        "def get_top_n_bigram(corpus, n=None):\n",
        "    vec = CountVectorizer(ngram_range=(2, 2)).fit(corpus)\n",
        "    bag_of_words = vec.transform(corpus)\n",
        "    sum_words = bag_of_words.sum(axis=0)\n",
        "    words_freq = [(word, sum_words[0, idx]) for word, idx in vec.vocabulary_.items()]\n",
        "    words_freq =sorted(words_freq, key = lambda x: x[1], reverse=True)\n",
        "    return words_freq[:n]\n",
        "common_words = get_top_n_bigram(df['Review Text'], 20)\n",
        "for word, freq in common_words:\n",
        "    print(word, freq)\n",
        "df3 = pd.DataFrame(common_words, columns = ['ReviewText' , 'count'])\n",
        "df3.groupby('ReviewText').sum()['count'].sort_values(ascending=False).plot(\n",
        "    kind='bar',title='Top 20 bigrams in review before removing stop words')\n"
      ]
    },
    {
      "cell_type": "code",
      "execution_count": null,
      "id": "816518f9",
      "metadata": {
        "colab": {
          "base_uri": "https://localhost:8080/",
          "height": 1000
        },
        "execution": {
          "iopub.execute_input": "2021-09-16T12:21:24.102883Z",
          "iopub.status.busy": "2021-09-16T12:21:24.097603Z",
          "iopub.status.idle": "2021-09-16T12:21:24.954814Z",
          "shell.execute_reply": "2021-09-16T12:21:24.953982Z",
          "shell.execute_reply.started": "2021-09-16T12:14:08.601038Z"
        },
        "id": "816518f9",
        "outputId": "61b1d9da-3e75-4c64-b4ca-fd49677968c4",
        "papermill": {
          "duration": 0.9081,
          "end_time": "2021-09-16T12:21:24.954954",
          "exception": false,
          "start_time": "2021-09-16T12:21:24.046854",
          "status": "completed"
        },
        "tags": []
      },
      "outputs": [],
      "source": [
        "def get_top_n_bigram(corpus, n=None):\n",
        "    vec = CountVectorizer(ngram_range=(2, 2), stop_words='english').fit(corpus)\n",
        "    bag_of_words = vec.transform(corpus)\n",
        "    sum_words = bag_of_words.sum(axis=0)\n",
        "    words_freq = [(word, sum_words[0, idx]) for word, idx in vec.vocabulary_.items()]\n",
        "    words_freq =sorted(words_freq, key = lambda x: x[1], reverse=True)\n",
        "    return words_freq[:n]\n",
        "common_words = get_top_n_bigram(df['Review Text'], 20)\n",
        "for word, freq in common_words:\n",
        "    print(word, freq)\n",
        "df4 = pd.DataFrame(common_words, columns = ['ReviewText' , 'count'])\n",
        "df4.groupby('ReviewText').sum()['count'].sort_values(ascending=False).plot(\n",
        "    kind='bar', title='Top 20 bigrams in review after removing stop words')\n"
      ]
    },
    {
      "cell_type": "code",
      "execution_count": null,
      "id": "c02c7e22",
      "metadata": {
        "colab": {
          "base_uri": "https://localhost:8080/",
          "height": 1000
        },
        "execution": {
          "iopub.execute_input": "2021-09-16T12:21:25.047428Z",
          "iopub.status.busy": "2021-09-16T12:21:25.046506Z",
          "iopub.status.idle": "2021-09-16T12:21:25.903935Z",
          "shell.execute_reply": "2021-09-16T12:21:25.904396Z",
          "shell.execute_reply.started": "2021-09-16T12:14:09.539662Z"
        },
        "id": "c02c7e22",
        "outputId": "7465161c-0340-4702-e77e-d3df24fdf465",
        "papermill": {
          "duration": 0.905171,
          "end_time": "2021-09-16T12:21:25.904560",
          "exception": false,
          "start_time": "2021-09-16T12:21:24.999389",
          "status": "completed"
        },
        "tags": []
      },
      "outputs": [],
      "source": [
        "def get_top_n_trigram(corpus, n=None):\n",
        "    vec = CountVectorizer(ngram_range=(3, 3)).fit(corpus)\n",
        "    bag_of_words = vec.transform(corpus)\n",
        "    sum_words = bag_of_words.sum(axis=0)\n",
        "    words_freq = [(word, sum_words[0, idx]) for word, idx in vec.vocabulary_.items()]\n",
        "    words_freq =sorted(words_freq, key = lambda x: x[1], reverse=True)\n",
        "    return words_freq[:n]\n",
        "common_words = get_top_n_trigram(df['Review Text'], 20)\n",
        "for word, freq in common_words:\n",
        "    print(word, freq)\n",
        "df5 = pd.DataFrame(common_words, columns = ['ReviewText' , 'count'])\n",
        "df5.groupby('ReviewText').sum()['count'].sort_values(ascending=False).plot(\n",
        "    kind='bar', title='Top 20 trigrams in review before removing stop words')"
      ]
    },
    {
      "cell_type": "code",
      "execution_count": null,
      "id": "653e4f9b",
      "metadata": {
        "colab": {
          "base_uri": "https://localhost:8080/",
          "height": 1000
        },
        "execution": {
          "iopub.execute_input": "2021-09-16T12:21:26.024027Z",
          "iopub.status.busy": "2021-09-16T12:21:26.008441Z",
          "iopub.status.idle": "2021-09-16T12:21:26.697852Z",
          "shell.execute_reply": "2021-09-16T12:21:26.698427Z",
          "shell.execute_reply.started": "2021-09-16T12:14:10.764550Z"
        },
        "id": "653e4f9b",
        "outputId": "a023a144-ed84-45c4-e3fa-8f8d072576ce",
        "papermill": {
          "duration": 0.748673,
          "end_time": "2021-09-16T12:21:26.698590",
          "exception": false,
          "start_time": "2021-09-16T12:21:25.949917",
          "status": "completed"
        },
        "tags": []
      },
      "outputs": [],
      "source": [
        "def get_top_n_trigram(corpus, n=None):\n",
        "    vec = CountVectorizer(ngram_range=(3, 3), stop_words='english').fit(corpus)\n",
        "    bag_of_words = vec.transform(corpus)\n",
        "    sum_words = bag_of_words.sum(axis=0)\n",
        "    words_freq = [(word, sum_words[0, idx]) for word, idx in vec.vocabulary_.items()]\n",
        "    words_freq =sorted(words_freq, key = lambda x: x[1], reverse=True)\n",
        "    return words_freq[:n]\n",
        "common_words = get_top_n_trigram(df['Review Text'], 20)\n",
        "for word, freq in common_words:\n",
        "    print(word, freq)\n",
        "df6 = pd.DataFrame(common_words, columns = ['ReviewText' ,'count'])\n",
        "df6.groupby('ReviewText').sum()['count'].sort_values(ascending=False).plot(\n",
        "    kind='bar', title='Top 20 trigrams in review after removing stop words')\n"
      ]
    },
    {
      "cell_type": "code",
      "execution_count": null,
      "id": "587fd971",
      "metadata": {
        "colab": {
          "base_uri": "https://localhost:8080/",
          "height": 542
        },
        "execution": {
          "iopub.execute_input": "2021-09-16T12:21:27.298299Z",
          "iopub.status.busy": "2021-09-16T12:21:27.297561Z",
          "iopub.status.idle": "2021-09-16T12:21:27.320454Z",
          "shell.execute_reply": "2021-09-16T12:21:27.319964Z",
          "shell.execute_reply.started": "2021-09-16T12:14:12.185920Z"
        },
        "id": "587fd971",
        "outputId": "90ddd951-92c3-4007-aac6-ddddaf40c77c",
        "papermill": {
          "duration": 0.07384,
          "end_time": "2021-09-16T12:21:27.320583",
          "exception": false,
          "start_time": "2021-09-16T12:21:27.246743",
          "status": "completed"
        },
        "tags": []
      },
      "outputs": [],
      "source": [
        "y0 = df.loc[df['sentiment'] == 'positive']['polarity']\n",
        "y1 = df.loc[df['sentiment'] == 'negative']['polarity']\n",
        "y2 = df.loc[df['sentiment'] == 'neutral']['polarity']\n",
        "\n",
        "trace0 = go.Box(\n",
        "    y=y0,\n",
        "    name = 'positive',\n",
        "    marker = dict(\n",
        "        color = 'rgb(214, 12, 140)',\n",
        "    )\n",
        ")\n",
        "trace1 = go.Box(\n",
        "    y=y1,\n",
        "    name = 'negative',\n",
        "    marker = dict(\n",
        "        color = 'rgb(0, 128, 128)',\n",
        "    )\n",
        ")\n",
        "trace2 = go.Box(\n",
        "    y=y2,\n",
        "    name = 'neutral',\n",
        "    marker = dict(\n",
        "        color = 'rgb(10, 140, 208)',\n",
        "    )\n",
        ")\n",
        "data = [trace0, trace1, trace2]\n",
        "layout = go.Layout(\n",
        "    title = \"Polarity Boxplot according to sentiment\"\n",
        ")\n",
        "\n",
        "go.Figure(data=data,layout=layout)"
      ]
    },
    {
      "cell_type": "code",
      "execution_count": null,
      "id": "d57857b9",
      "metadata": {
        "colab": {
          "base_uri": "https://localhost:8080/",
          "height": 542
        },
        "execution": {
          "iopub.execute_input": "2021-09-16T12:21:27.424905Z",
          "iopub.status.busy": "2021-09-16T12:21:27.424013Z",
          "iopub.status.idle": "2021-09-16T12:21:27.442501Z",
          "shell.execute_reply": "2021-09-16T12:21:27.443051Z",
          "shell.execute_reply.started": "2021-09-16T12:14:12.220635Z"
        },
        "id": "d57857b9",
        "outputId": "fc37143d-131d-4400-e7f0-4d8beedaa854",
        "papermill": {
          "duration": 0.073024,
          "end_time": "2021-09-16T12:21:27.443216",
          "exception": false,
          "start_time": "2021-09-16T12:21:27.370192",
          "status": "completed"
        },
        "tags": []
      },
      "outputs": [],
      "source": [
        "y0 = df.loc[df['sentiment'] == 'positive']['news_len']\n",
        "y1 = df.loc[df['sentiment'] == 'negative']['news_len']\n",
        "y2 = df.loc[df['sentiment'] == 'neutral']['news_len']\n",
        "\n",
        "\n",
        "trace0 = go.Box(\n",
        "    y=y0,\n",
        "    name = 'positive',\n",
        "    marker = dict(\n",
        "        color = 'rgb(214, 12, 140)',\n",
        "    )\n",
        ")\n",
        "trace1 = go.Box(\n",
        "    y=y1,\n",
        "    name = 'negative',\n",
        "    marker = dict(\n",
        "        color = 'rgb(0, 128, 128)',\n",
        "    )\n",
        ")\n",
        "trace2 = go.Box(\n",
        "    y=y2,\n",
        "    name = 'neutral',\n",
        "    marker = dict(\n",
        "        color = 'rgb(10, 140, 208)',\n",
        "    )\n",
        ")\n",
        "data = [trace0, trace1, trace2]\n",
        "layout = go.Layout(\n",
        "    title = \"news length Boxplot by sentiment\"\n",
        ")\n",
        "go.Figure(data=data,layout=layout)"
      ]
    },
    {
      "cell_type": "code",
      "execution_count": null,
      "id": "59c14af2",
      "metadata": {
        "colab": {
          "base_uri": "https://localhost:8080/",
          "height": 542
        },
        "execution": {
          "iopub.execute_input": "2021-09-16T12:21:27.553542Z",
          "iopub.status.busy": "2021-09-16T12:21:27.552935Z",
          "iopub.status.idle": "2021-09-16T12:21:27.568038Z",
          "shell.execute_reply": "2021-09-16T12:21:27.568462Z",
          "shell.execute_reply.started": "2021-09-16T12:14:12.250352Z"
        },
        "id": "59c14af2",
        "outputId": "7ce5f64b-5110-4006-a57a-3d3d4e0867a4",
        "papermill": {
          "duration": 0.075764,
          "end_time": "2021-09-16T12:21:27.568617",
          "exception": false,
          "start_time": "2021-09-16T12:21:27.492853",
          "status": "completed"
        },
        "tags": []
      },
      "outputs": [],
      "source": [
        "xp = df.loc[df['sentiment'] == \"positive\", 'polarity']\n",
        "xneu = df.loc[df['sentiment'] == \"neutral\", 'polarity']\n",
        "xneg= df.loc[df['sentiment'] == \"negative\", 'polarity']\n",
        "\n",
        "trace1 = go.Histogram(\n",
        "    x=xp, name='positive',\n",
        "    opacity=0.75\n",
        ")\n",
        "trace2 = go.Histogram(\n",
        "    x=xneu, name = 'neutral',\n",
        "    opacity=0.75\n",
        ")\n",
        "trace3 = go.Histogram(\n",
        "    x=xneg, name = 'negative',\n",
        "    opacity=0.75\n",
        ")\n",
        "data = [trace1, trace2,trace3]\n",
        "layout = go.Layout(barmode='overlay', title='Distribution of Sentiment polarity')\n",
        "go.Figure(data=data, layout=layout)"
      ]
    },
    {
      "cell_type": "code",
      "execution_count": null,
      "id": "7qHUodLS0whm",
      "metadata": {
        "colab": {
          "base_uri": "https://localhost:8080/"
        },
        "id": "7qHUodLS0whm",
        "outputId": "39f0cfbf-dc16-4819-ed73-c5f3a74b8f8d"
      },
      "outputs": [],
      "source": [
        "import pandas as pd\n",
        "import numpy as np\n",
        "import matplotlib.pyplot as plt\n",
        "import seaborn as sns\n",
        "from sklearn.feature_extraction.text import TfidfVectorizer\n",
        "from sklearn.model_selection import train_test_split\n",
        "from sklearn.preprocessing import LabelEncoder\n",
        "from sklearn.metrics import accuracy_score, mean_squared_error, confusion_matrix\n",
        "from sklearn.linear_model import LinearRegression\n",
        "from sklearn.neighbors import KNeighborsClassifier\n",
        "from sklearn.tree import DecisionTreeClassifier\n",
        "from textblob import TextBlob\n",
        "\n",
        "# Load dataset from the absolute path\n",
        "file_path = '/content/drive/MyDrive/Dataset/all-data.csv'\n",
        "data = pd.read_csv(file_path, encoding='ISO-8859-1')\n",
        "\n",
        "# Renaming columns for clarity (modify based on actual column names)\n",
        "data.columns = ['sentiment', 'news']\n",
        "\n",
        "# Check for missing values and fill them\n",
        "data = data.dropna()\n",
        "\n",
        "# Feature Engineering: Calculate Polarity, News Length, and Word Count\n",
        "data['polarity'] = data['news'].apply(lambda x: TextBlob(x).sentiment.polarity)\n",
        "data['news_len'] = data['news'].apply(len)\n",
        "data['word_count'] = data['news'].apply(lambda x: len(x.split()))\n",
        "\n",
        "# Encode the sentiment labels\n",
        "le = LabelEncoder()\n",
        "data['sentiment_encoded'] = le.fit_transform(data['sentiment'])\n",
        "\n",
        "# Vectorize the news text using TF-IDF\n",
        "vectorizer = TfidfVectorizer(max_features=1000)\n",
        "X_text = vectorizer.fit_transform(data['news']).toarray()\n",
        "\n",
        "# Combine text features (TF-IDF) with numerical features (polarity, news_len, word_count)\n",
        "X = np.hstack((X_text, data[['polarity', 'news_len', 'word_count']].values))\n",
        "y = data['sentiment_encoded']\n",
        "\n",
        "# Split the data into training and testing sets\n",
        "X_train, X_test, y_train, y_test = train_test_split(\n",
        "    X, y, test_size=0.2, random_state=42)\n",
        "\n",
        "\n",
        "# --- REGRESSION MODEL ---\n",
        "# Train a regression model\n",
        "regressor = LinearRegression()\n",
        "regressor.fit(X_train, y_train)\n",
        "\n",
        "# Predictions and evaluation for regression\n",
        "y_pred_reg = regressor.predict(X_test)\n",
        "mse = mean_squared_error(y_test, y_pred_reg)\n",
        "print(f\"Mean Squared Error (Regression): {mse}\")\n",
        "\n",
        "# --- DECISION TREE MODEL ---\n",
        "# Train Decision Tree classifier\n",
        "tree = DecisionTreeClassifier(random_state=42)\n",
        "tree.fit(X_train, y_train)\n",
        "\n",
        "# Predictions and evaluation for Decision Tree\n",
        "y_pred_tree = tree.predict(X_test)\n",
        "accuracy_tree = accuracy_score(y_test, y_pred_tree)\n",
        "print(f\"Accuracy (Decision Tree): {accuracy_tree}\")"
      ]
    },
    {
      "cell_type": "code",
      "execution_count": null,
      "id": "6fc51d86",
      "metadata": {},
      "outputs": [],
      "source": [
        "# --- KNN MODEL ---\n",
        "# Train KNN classifier\n",
        "knn = KNeighborsClassifier(n_neighbors=5)\n",
        "knn.fit(X_train, y_train)\n",
        "\n",
        "# Predictions and evaluation for KNN\n",
        "y_pred_knn = knn.predict(X_test)\n",
        "accuracy_knn = accuracy_score(y_test, y_pred_knn)\n",
        "print(f\"Accuracy (KNN): {accuracy_knn}\")\n",
        "\n",
        "# Confusion Matrix for KNN\n",
        "cm_knn = confusion_matrix(y_test, y_pred_knn)\n",
        "plt.figure(figsize=(6, 4))\n",
        "sns.heatmap(cm_knn, annot=True, fmt='d', cmap='Blues', cbar=False,\n",
        "            xticklabels=le.classes_, yticklabels=le.classes_)\n",
        "plt.title('Confusion Matrix (KNN)')\n",
        "plt.xlabel('Predicted')\n",
        "plt.ylabel('Actual')\n",
        "plt.show()"
      ]
    },
    {
      "cell_type": "code",
      "execution_count": null,
      "id": "X5zmtHby3kAG",
      "metadata": {
        "colab": {
          "base_uri": "https://localhost:8080/",
          "height": 981
        },
        "id": "X5zmtHby3kAG",
        "outputId": "824b98fd-2c3c-421a-a20c-78cde503336d"
      },
      "outputs": [],
      "source": [
        "# Decision Tree\n",
        "\n",
        "# %%\n",
        "from sklearn.tree import DecisionTreeClassifier, plot_tree\n",
        "from sklearn.metrics import classification_report, confusion_matrix\n",
        "import matplotlib.pyplot as plt\n",
        "import seaborn as sns\n",
        "import pandas as pd\n",
        "\n",
        "# Train Decision Tree model\n",
        "decision_tree = DecisionTreeClassifier(random_state=42)\n",
        "decision_tree.fit(X_train, y_train)\n",
        "\n",
        "# Make predictions\n",
        "y_pred_tree = decision_tree.predict(X_test)\n",
        "\n",
        "# Print classification report and confusion matrix\n",
        "print(\"Decision Tree Classification Report:\\n\",\n",
        "      classification_report(y_test, y_pred_tree))\n",
        "print(\"Decision Tree Confusion Matrix:\\n\",\n",
        "      confusion_matrix(y_test, y_pred_tree))\n",
        "import matplotlib.pyplot as plt\n",
        "from sklearn.tree import plot_tree\n",
        "import numpy as np\n",
        "\n",
        "\n",
        "if hasattr(X_train, 'tocsr'):\n",
        "    feature_names = [f'feature_{i}' for i in range(X_train.shape[1])]\n",
        "else:\n",
        "    feature_names = X_train.columns if hasattr(X_train, 'columns') else None\n",
        "\n",
        "class_names = [str(name) for name in decision_tree.classes_]\n",
        "\n",
        "y\n",
        "plt.figure(figsize=(30, 15))\n",
        "\n",
        "# Plot the decision tree\n",
        "plot_tree(\n",
        "    decision_tree,\n",
        "    feature_names=feature_names,\n",
        "    class_names=class_names,\n",
        "    filled=True,\n",
        "    rounded=True,\n",
        "    fontsize=15,\n",
        "    max_depth=3,\n",
        "    proportion=True,\n",
        "    precision=2,\n",
        "    impurity=True,\n",
        "    label='all'\n",
        ")\n",
        "\n",
        "plt.title('Decision Tree Structure', fontsize=20)\n",
        "plt.tight_layout()\n",
        "plt.show()"
      ]
    },
    {
      "cell_type": "code",
      "execution_count": null,
      "id": "Vx0NldOuxUOu",
      "metadata": {
        "colab": {
          "base_uri": "https://localhost:8080/"
        },
        "id": "Vx0NldOuxUOu",
        "outputId": "b7db8ebb-f62b-4255-b05d-79e3e41b69a0"
      },
      "outputs": [],
      "source": [
        "!pip install gradio"
      ]
    },
    {
      "cell_type": "code",
      "execution_count": 2,
      "id": "3777647e",
      "metadata": {
        "id": "3777647e"
      },
      "outputs": [],
      "source": [
        "import pandas as pd\n",
        "from sklearn.preprocessing import LabelEncoder\n",
        "from sklearn.model_selection import train_test_split\n",
        "from sklearn.feature_extraction.text import TfidfVectorizer\n",
        "from sklearn.linear_model import LinearRegression\n",
        "from sklearn.metrics import mean_squared_error, r2_score\n",
        "import numpy as np\n",
        "import pickle\n",
        "import gradio as gr"
      ]
    },
    {
      "cell_type": "code",
      "execution_count": 6,
      "id": "455d7b43",
      "metadata": {
        "id": "455d7b43"
      },
      "outputs": [],
      "source": [
        "# Load your dataset (replace 'your_file.csv' with your actual file path)\n",
        "data = pd.read_csv('/content/drive/MyDrive/Dataset/all-data.csv', encoding='ISO-8859-1')"
      ]
    },
    {
      "cell_type": "code",
      "execution_count": null,
      "id": "9734b774",
      "metadata": {
        "colab": {
          "base_uri": "https://localhost:8080/",
          "height": 80
        },
        "id": "9734b774",
        "outputId": "4f924451-52b7-44d9-e12d-ca1a63973a26"
      },
      "outputs": [],
      "source": [
        "\n",
        "# Rename columns for clarity\n",
        "data.columns = ['sentiment', 'text']\n",
        "\n",
        "# Encode the sentiment labels into numerical values\n",
        "label_encoder = LabelEncoder()\n",
        "data['sentiment_encoded'] = label_encoder.fit_transform(data['sentiment'])\n",
        "\n",
        "# Split data into training and testing sets\n",
        "X = data['text']  # Text data (independent variable)\n",
        "y = data['sentiment_encoded']  # Sentiment (dependent variable)\n",
        "\n",
        "X_train, X_test, y_train, y_test = train_test_split(X, y, test_size=0.2, random_state=42)\n",
        "\n",
        "# Vectorize the text data using TF-IDF\n",
        "tfidf = TfidfVectorizer(max_features=5000)\n",
        "X_train_tfidf = tfidf.fit_transform(X_train)\n",
        "X_test_tfidf = tfidf.transform(X_test)\n",
        "\n",
        "# Train a regression model (Linear Regression)\n",
        "regressor = LinearRegression()\n",
        "regressor.fit(X_train_tfidf, y_train)"
      ]
    },
    {
      "cell_type": "code",
      "execution_count": null,
      "id": "c1768720",
      "metadata": {
        "colab": {
          "base_uri": "https://localhost:8080/"
        },
        "id": "c1768720",
        "outputId": "bb071325-13fb-45f3-c032-33991cf18ec5"
      },
      "outputs": [],
      "source": [
        "# Save the trained model and the vectorizer as .pkl files\n",
        "with open('your_model.pkl', 'wb') as model_file:\n",
        "    pickle.dump(regressor, model_file)\n",
        "\n",
        "with open('tfidf_vectorizer.pkl', 'wb') as vectorizer_file:\n",
        "    pickle.dump(tfidf, vectorizer_file)\n",
        "\n",
        "print(\"Model and vectorizer saved as 'your_model.pkl' and 'tfidf_vectorizer.pkl'\")"
      ]
    },
    {
      "cell_type": "code",
      "execution_count": null,
      "id": "oP0Ley9aNoG0",
      "metadata": {
        "colab": {
          "base_uri": "https://localhost:8080/"
        },
        "id": "oP0Ley9aNoG0",
        "outputId": "7bbf9975-8d64-409f-9f2f-ecf920b9e7d6"
      },
      "outputs": [],
      "source": [
        "# Evaluate the model accuracy\n",
        "y_pred = regressor.predict(X_test_tfidf)\n",
        "mse = mean_squared_error(y_test, y_pred)\n",
        "rmse = np.sqrt(mse)\n",
        "r2 = r2_score(y_test, y_pred)\n",
        "\n",
        "max_value = 100  # Assuming sentiment is on a 0-100 scale\n",
        "accuracy = (1 - rmse / max_value) * 100\n",
        "\n",
        "#print(f\"Mean Squared Error: {mse}\")\n",
        "print(f\"Root Mean Squared Error: {rmse}\")\n",
        "#print(f\"R² Score: {r2}\")\n",
        "print(f\"Final Accuracy: {accuracy:.2f}%\")"
      ]
    },
    {
      "cell_type": "code",
      "execution_count": 10,
      "id": "RxeIfDcDNrcC",
      "metadata": {
        "id": "RxeIfDcDNrcC"
      },
      "outputs": [],
      "source": [
        "# Function to predict market movement based on news title\n",
        "def predict_market_movement(news_title):\n",
        "    if not news_title:\n",
        "        return \"Please enter a news title.\"\n",
        "\n",
        "    # Load the trained model and TF-IDF vectorizer\n",
        "    with open('your_model.pkl', 'rb') as model_file:\n",
        "        regressor = pickle.load(model_file)\n",
        "\n",
        "    with open('tfidf_vectorizer.pkl', 'rb') as vectorizer_file:\n",
        "        tfidf = pickle.load(vectorizer_file)\n",
        "\n",
        "    # Vectorize the input news title and predict\n",
        "    news_title_tfidf = tfidf.transform([news_title])\n",
        "    predicted_sentiment = regressor.predict(news_title_tfidf)[0]\n",
        "\n",
        "    # Determine the market sentiment label\n",
        "    if predicted_sentiment > 1.5:\n",
        "        sentiment_label = \"Positive Market Movement\"\n",
        "    elif predicted_sentiment < 1.5 and predicted_sentiment > 0.5:\n",
        "        sentiment_label = \"Neutral Market Movement\"\n",
        "    else:\n",
        "        sentiment_label = \"Negative Market Movement\"\n",
        "\n",
        "    return f\"{sentiment_label}\""
      ]
    },
    {
      "cell_type": "code",
      "execution_count": null,
      "id": "kUTcZnflNx_i",
      "metadata": {
        "colab": {
          "base_uri": "https://localhost:8080/",
          "height": 646
        },
        "id": "kUTcZnflNx_i",
        "outputId": "50e5d75c-c94d-4f74-ca42-1fa053e83a63"
      },
      "outputs": [],
      "source": [
        "# Create Gradio interface\n",
        "# Updated to use gr.Textbox directly\n",
        "news_input = gr.Textbox(lines=2, placeholder=\"Enter News Title\")\n",
        "output_text = gr.Textbox()\n",
        "\n",
        "interface = gr.Interface(fn=predict_market_movement,\n",
        "                         inputs=news_input,\n",
        "                         outputs=output_text,\n",
        "                         title=\"Market Movement Predictor\")\n",
        "\n",
        "# Launch the interface\n",
        "interface.launch()"
      ]
    }
  ],
  "metadata": {
    "colab": {
      "provenance": []
    },
    "kernelspec": {
      "display_name": "Python 3",
      "language": "python",
      "name": "python3"
    },
    "language_info": {
      "codemirror_mode": {
        "name": "ipython",
        "version": 3
      },
      "file_extension": ".py",
      "mimetype": "text/x-python",
      "name": "python",
      "nbconvert_exporter": "python",
      "pygments_lexer": "ipython3",
      "version": "3.12.4"
    },
    "papermill": {
      "default_parameters": {},
      "duration": 55.850656,
      "end_time": "2021-09-16T12:21:52.303234",
      "environment_variables": {},
      "exception": null,
      "input_path": "__notebook__.ipynb",
      "output_path": "__notebook__.ipynb",
      "parameters": {},
      "start_time": "2021-09-16T12:20:56.452578",
      "version": "2.3.3"
    }
  },
  "nbformat": 4,
  "nbformat_minor": 5
}
